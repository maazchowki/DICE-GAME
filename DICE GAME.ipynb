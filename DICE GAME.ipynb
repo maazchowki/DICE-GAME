{
 "cells": [
  {
   "cell_type": "code",
   "execution_count": 17,
   "id": "f6852ba8",
   "metadata": {},
   "outputs": [
    {
     "name": "stdout",
     "output_type": "stream",
     "text": [
      "R or N r\n",
      "3\n",
      "5\n"
     ]
    }
   ],
   "source": [
    "import random\n",
    "dice=input('R or N' \" \").upper()\n",
    "if dice =='R':\n",
    "    [print(random.randint(1,6)),print(random.randint(1,6))]\n",
    "elif dice =='N':\n",
    "    print('game ended')\n",
    "else:\n",
    "    print('sahi se khel le')\n",
    "    "
   ]
  },
  {
   "cell_type": "code",
   "execution_count": 24,
   "id": "eb997830",
   "metadata": {},
   "outputs": [
    {
     "name": "stdout",
     "output_type": "stream",
     "text": [
      "r or n r\n",
      "6\n",
      "5\n"
     ]
    }
   ],
   "source": [
    "\n",
    "dicee=input('r or n'\" \").lower()\n",
    "if dicee =='r':\n",
    "    [print(random.randint(1,6)),print(random.randint(1,6))]\n",
    "elif dicee =='n':\n",
    "    print('game ended')\n",
    "else:\n",
    "    print('ghr ja tuh')"
   ]
  },
  {
   "cell_type": "code",
   "execution_count": 1,
   "id": "7ba0bda1",
   "metadata": {},
   "outputs": [
    {
     "name": "stdout",
     "output_type": "stream",
     "text": [
      "Weird\n"
     ]
    }
   ],
   "source": [
    "n=3\n",
    "if n%2:\n",
    "    print(\"Weird\")\n",
    "elif n in range(2,6):\n",
    "    print(\"Not Werid\")\n",
    "elif n in range(6,21):\n",
    "    print(\"Werid\")\n",
    "else:\n",
    "    print(\"Not Weird\")"
   ]
  },
  {
   "cell_type": "code",
   "execution_count": null,
   "id": "c12c294e",
   "metadata": {},
   "outputs": [],
   "source": [
    "a = 3\n",
    "b = 2\n"
   ]
  },
  {
   "cell_type": "code",
   "execution_count": null,
   "id": "a8f4d6cc",
   "metadata": {},
   "outputs": [],
   "source": []
  },
  {
   "cell_type": "code",
   "execution_count": null,
   "id": "9d53bd2a",
   "metadata": {},
   "outputs": [],
   "source": []
  }
 ],
 "metadata": {
  "kernelspec": {
   "display_name": "Python 3 (ipykernel)",
   "language": "python",
   "name": "python3"
  },
  "language_info": {
   "codemirror_mode": {
    "name": "ipython",
    "version": 3
   },
   "file_extension": ".py",
   "mimetype": "text/x-python",
   "name": "python",
   "nbconvert_exporter": "python",
   "pygments_lexer": "ipython3",
   "version": "3.9.12"
  }
 },
 "nbformat": 4,
 "nbformat_minor": 5
}
